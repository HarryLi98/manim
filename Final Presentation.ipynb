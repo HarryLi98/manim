{
 "cells": [
  {
   "cell_type": "code",
   "execution_count": 1,
   "id": "f6cd9a13",
   "metadata": {},
   "outputs": [
    {
     "data": {
      "text/html": [
       "<pre style=\"white-space:pre;overflow-x:auto;line-height:normal;font-family:Menlo,'DejaVu Sans Mono',consolas,'Courier New',monospace\">Manim Community <span style=\"color: #008000; text-decoration-color: #008000\">v0.9.0</span>\n",
       "\n",
       "</pre>\n"
      ],
      "text/plain": [
       "Manim Community \u001b[32mv0.\u001b[0m\u001b[32m9.0\u001b[0m\n",
       "\n"
      ]
     },
     "metadata": {},
     "output_type": "display_data"
    }
   ],
   "source": [
    "from manim import *\n",
    "import numpy as np\n",
    "import random"
   ]
  },
  {
   "cell_type": "markdown",
   "id": "63eabdcf",
   "metadata": {},
   "source": [
    "# Functions"
   ]
  },
  {
   "cell_type": "code",
   "execution_count": 79,
   "id": "99dfd792",
   "metadata": {},
   "outputs": [],
   "source": [
    "# Define approximating function\n",
    "def curve_func(x):\n",
    "    return np.sin(x*np.pi)*x**2\n",
    "\n",
    "# Define all nodes up to hierarchical level l\n",
    "def make_nodes(l):\n",
    "    return np.linspace(0, 1, 2**l+1, endpoint = True)\n",
    "\n",
    "# Define all nodes at hierarchical level l\n",
    "def make_hierarchical_nodes(l):\n",
    "    if (l==0):\n",
    "        new_nodes = np.linspace(0, 1, 2**l+1, endpoint = True)\n",
    "    else:\n",
    "        old_nodes = np.linspace(0, 1, 2**(l-1)+1, endpoint = True)\n",
    "        new_nodes = [x for x in make_nodes(l) if x not in old_nodes]\n",
    "    return new_nodes\n",
    "\n",
    "# Define basis functions\n",
    "def make_basis(nodes, l):\n",
    "    basis = []\n",
    "    for i in nodes:\n",
    "        if l == 0:\n",
    "            basis.append(lambda x, i=i: max(1 - abs(2**l * x - i), 0))\n",
    "        else:\n",
    "            basis.append(lambda x, i=i: max(1 - abs(2**l * x - i*2**l), 0))\n",
    "    return(basis)\n",
    "\n",
    "# Define coefficients\n",
    "def make_coefficients(curve, nodes):\n",
    "    coefficients = []\n",
    "    for n in nodes:\n",
    "        coefficients.append(curve(n))\n",
    "    return coefficients\n",
    "\n",
    "# Define scaled linear basis functions\n",
    "def make_scaled_basis(coeffs, basis): \n",
    "    scaled_basis = []\n",
    "    for alpha, fn in zip(coeffs, basis):\n",
    "        scaled_basis.append(lambda x, alpha = alpha, fn = fn: alpha * fn(x))\n",
    "    return scaled_basis\n",
    "\n",
    "def make_approximation(basis):\n",
    "    return lambda x: sum(f(x) for f in basis)\n",
    "\n",
    "def make_residual_function(resid, basis):\n",
    "    return lambda x: resid(x) - sum(f(x) for f in basis)\n",
    "\n",
    "lmax = 5\n",
    "# Initialise\n",
    "nodes_l = []\n",
    "phi_l = []\n",
    "coeff_l = []\n",
    "coeff_phi_l = []\n",
    "approx_l = []\n",
    "\n",
    "for l in range(lmax):\n",
    "    nodes_l.append(make_nodes(l))\n",
    "    phi_l.append(make_basis(nodes_l[l], l))\n",
    "    coeff_l.append(make_coefficients(curve_func, nodes_l[l]))\n",
    "    coeff_phi_l.append(make_scaled_basis(coeff_l[l], phi_l[l]))\n",
    "    approx_l.append(make_approximation(coeff_phi_l[l]))"
   ]
  },
  {
   "cell_type": "markdown",
   "id": "b72e016c",
   "metadata": {},
   "source": [
    "# Introduction"
   ]
  },
  {
   "cell_type": "code",
   "execution_count": 26,
   "id": "c233ef20",
   "metadata": {},
   "outputs": [
    {
     "name": "stderr",
     "output_type": "stream",
     "text": [
      "                                                                                                                       \r"
     ]
    },
    {
     "data": {
      "text/html": [
       "<video src=\"media\\jupyter\\DynamicOptimisation@2021-08-19@18-03-47.mp4\" controls autoplay loop style=\"max-width: 25vw;\"  >\n",
       "      Your browser does not support the <code>video</code> element.\n",
       "    </video>"
      ],
      "text/plain": [
       "<IPython.core.display.Video object>"
      ]
     },
     "metadata": {},
     "output_type": "display_data"
    }
   ],
   "source": [
    "%%manim -qh --disable_caching -v WARNING DynamicOptimisation\n",
    "\n",
    "class DynamicOptimisation(Scene):\n",
    "    def construct(self):\n",
    "\n",
    "        bellman = MathTex(\"V\",\n",
    "                          \"(\",\n",
    "                          \"x_{t}\",\n",
    "                          \") = \\\\max_{\\\\{\",\n",
    "                          \"a_{t}\",\n",
    "                          \" \\\\in\",\n",
    "                          \"\\\\Gamma(x_{t})\",\n",
    "                          \"\\\\}} \\\\{F(x_{t}, a_{t}) + \\\\beta V(\",\n",
    "                          \"T(x_{t}, a_{t})\",\n",
    "                          \")\\\\}\")\n",
    "        \n",
    "        underline = [Underline(x, color = YELLOW) for x in bellman]\n",
    "        \n",
    "        self.play(Write(bellman))#, run_time = 4)\n",
    "        self.wait(1)\n",
    "        self.play(Create(underline[0]))\n",
    "        self.play(FadeOut(underline[0]))\n",
    "        self.play(Create(underline[2]))\n",
    "        self.play(FadeOut(underline[2]))\n",
    "        self.play(Create(underline[4]))\n",
    "        self.play(FadeOut(underline[4]))\n",
    "        self.play(Create(underline[6]))\n",
    "        self.play(FadeOut(underline[6]))\n",
    "        self.wait(1)\n",
    "#         self.play(bellman.animate.shift(2*UP))"
   ]
  },
  {
   "cell_type": "code",
   "execution_count": 22,
   "id": "fba3d703",
   "metadata": {},
   "outputs": [
    {
     "name": "stderr",
     "output_type": "stream",
     "text": [
      "                                                                                                                       \r"
     ]
    },
    {
     "data": {
      "text/html": [
       "<video src=\"media\\jupyter\\Setting_Title@2021-08-19@16-04-53.mp4\" controls autoplay loop style=\"max-width: 25vw;\"  >\n",
       "      Your browser does not support the <code>video</code> element.\n",
       "    </video>"
      ],
      "text/plain": [
       "<IPython.core.display.Video object>"
      ]
     },
     "metadata": {},
     "output_type": "display_data"
    }
   ],
   "source": [
    "%%manim -qh --disable_caching -v WARNING Setting_Title\n",
    "\n",
    "class Setting_Title(Scene):\n",
    "    def construct(self):\n",
    "        Title = Text(\"Setting\").scale(1.5)\n",
    "        self.play(Write(Title))\n",
    "        self.play(FadeOut(Title))"
   ]
  },
  {
   "cell_type": "code",
   "execution_count": 29,
   "id": "6bfb5b95",
   "metadata": {},
   "outputs": [
    {
     "name": "stderr",
     "output_type": "stream",
     "text": [
      "                                                                                                                       \r"
     ]
    },
    {
     "data": {
      "text/html": [
       "<video src=\"media\\jupyter\\Setup2@2021-08-19@18-20-47.mp4\" controls autoplay loop style=\"max-width: 25vw;\"  >\n",
       "      Your browser does not support the <code>video</code> element.\n",
       "    </video>"
      ],
      "text/plain": [
       "<IPython.core.display.Video object>"
      ]
     },
     "metadata": {},
     "output_type": "display_data"
    }
   ],
   "source": [
    "%%manim -qh --disable_caching -v WARNING Setup2\n",
    "\n",
    "class Setup2(Scene):\n",
    "    def construct(self):\n",
    "               \n",
    "        ax = Axes(\n",
    "            x_range=[0, 1], \n",
    "            y_range=[0, 0.5], \n",
    "            axis_config = {\n",
    "                \"decimal_number_config\": {\"num_decimal_places\": 2}\n",
    "            },\n",
    "            x_axis_config={\n",
    "                \"include_numbers\": False,\n",
    "                \"include_ticks\": False,\n",
    "                \"include_tip\": False\n",
    "            }\n",
    "        )\n",
    "\n",
    "        labels = ax.get_axis_labels(y_label = MathTex(\"f(x)\"))\n",
    "        curve = ax.get_graph(curve_func, x_range=[0, 1], color=BLUE)\n",
    "        curve_label = MathTex(\"f: [0,1] \\\\longrightarrow \\\\mathbb{R}, f(x)\", color = BLUE)\n",
    "        discrete_label = MathTex(\"f \\\\approx \\\\hat{f}\", color = GREEN)\n",
    "\n",
    "        x_pos = [x for x in [0,1]]\n",
    "        x_vals = [\"0\", \"1\"]\n",
    "        x_labels = [MathTex(x) for x in x_vals]\n",
    "        x_dict = dict(zip(x_pos, x_labels))\n",
    "     \n",
    "        ax.add_coordinates(x_dict)\n",
    "\n",
    "        l = 2\n",
    "        dots = VGroup(*[Dot(point=ax.c2p(n,0)) for n in nodes_l[l]])      \n",
    "        coeff_phi = VGroup(*[ax.get_graph(p, x_range = [0,1,0.003], color = ORANGE) for p in coeff_phi_l[l]])\n",
    "        vert_lines = VGroup(*[ax.get_vertical_line(ax.i2gp(n, curve), color = YELLOW) for n in nodes_l[l]])\n",
    "        approx = ax.get_graph(approx_l[l], x_range = [0,1,0.003], color = GREEN)\n",
    "                        \n",
    "        # Animations       \n",
    "        self.play(Write(curve_label))\n",
    "        self.play(curve_label.animate.shift(3*UP))\n",
    "        self.play(Create(ax), Create(curve))\n",
    "        self.wait(1)      \n",
    "            \n",
    "        x_pos = [x for x in np.linspace(0,1,5)]\n",
    "        x_vals = [\"0\", \"x_{1}\", \"x_{2}\", \"x_{3}\", \"1\"]\n",
    "        x_labels = [MathTex(x) for x in x_vals]\n",
    "        x_dict = dict(zip(x_pos, x_labels))\n",
    "    \n",
    "        self.play(Write(discrete_label.shift(2*UP)))\n",
    "        self.wait(1)\n",
    "        ax.add_coordinates(x_dict)\n",
    "        ax.x_axis.remove(ax.x_axis.labels)\n",
    "        self.play(Write(ax.x_axis.labels))\n",
    "        \n",
    "        self.play(FadeIn(dots))\n",
    "        self.play(FadeIn(vert_lines))\n",
    "        self.play(Create(approx), run_time = 4)\n",
    "        self.wait(1)\n",
    "        self.play(FadeOut(vert_lines), FadeOut(dots), FadeOut(curve))\n",
    "\n",
    "        self.wait(1)"
   ]
  },
  {
   "cell_type": "code",
   "execution_count": 32,
   "id": "a8234827",
   "metadata": {},
   "outputs": [
    {
     "name": "stderr",
     "output_type": "stream",
     "text": [
      "                                                                                                                       \r"
     ]
    },
    {
     "data": {
      "text/html": [
       "<video src=\"media\\jupyter\\Setup3@2021-08-19@18-23-01.mp4\" controls autoplay loop style=\"max-width: 25vw;\"  >\n",
       "      Your browser does not support the <code>video</code> element.\n",
       "    </video>"
      ],
      "text/plain": [
       "<IPython.core.display.Video object>"
      ]
     },
     "metadata": {},
     "output_type": "display_data"
    }
   ],
   "source": [
    "%%manim -qh --disable_caching -v WARNING Setup3\n",
    "\n",
    "class Setup3(Scene):\n",
    "    def construct(self):\n",
    "               \n",
    "        ax = Axes(\n",
    "            x_range=[0, 1], \n",
    "            y_range=[0, 0.5], \n",
    "            axis_config = {\n",
    "                \"decimal_number_config\": {\"num_decimal_places\": 2}\n",
    "            },\n",
    "            x_axis_config={\n",
    "                \"include_numbers\": False,\n",
    "                \"include_ticks\": False,\n",
    "                \"include_tip\": False\n",
    "            }\n",
    "        )\n",
    "\n",
    "        curve = ax.get_graph(curve_func, x_range=[0, 1], color=BLUE)\n",
    "\n",
    "        x_pos = [x for x in [0,1]]\n",
    "        x_vals = [\"0\", \"1\"]\n",
    "        x_labels = [MathTex(x) for x in x_vals]\n",
    "        x_dict = dict(zip(x_pos, x_labels))\n",
    "     \n",
    "        ax.add_coordinates(x_dict)\n",
    "\n",
    "        l = 3\n",
    "        dots = VGroup(*[Dot(point=ax.c2p(n,0)) for n in nodes_l[l]])      \n",
    "        coeff_phi = VGroup(*[ax.get_graph(p, x_range = [0,1,0.003], color = ORANGE) for p in coeff_phi_l[l]])\n",
    "        vert_lines = VGroup(*[ax.get_vertical_line(ax.i2gp(n, curve), color = YELLOW) for n in nodes_l[l]])\n",
    "        approx = ax.get_graph(approx_l[l], x_range = [0,1,0.003], color = GREEN)\n",
    "                        \n",
    "        # Animations       \n",
    "        self.add(ax, curve)     \n",
    "            \n",
    "        x_pos = [x for x in np.linspace(0,1,9)]\n",
    "        x_vals = [\"0\", \"x_{1}\", \"x_{2}\", \"x_{3}\", \"x_{4}\", \"x_{5}\", \"x_{6}\", \"x_{7}\", \"1\"]\n",
    "        x_labels = [MathTex(x) for x in x_vals]\n",
    "        x_dict = dict(zip(x_pos, x_labels))\n",
    "    \n",
    "        ax.add_coordinates(x_dict)\n",
    "        ax.x_axis.remove(ax.x_axis.labels)\n",
    "        self.play(Write(ax.x_axis.labels))\n",
    "        \n",
    "        self.play(FadeIn(dots))\n",
    "        self.play(FadeIn(vert_lines))\n",
    "        self.play(Create(approx), run_time = 4)\n",
    "        self.wait(1)\n",
    "        self.play(FadeOut(vert_lines), FadeOut(dots))\n",
    "\n",
    "        self.wait(1)"
   ]
  },
  {
   "cell_type": "code",
   "execution_count": 36,
   "id": "a7828357",
   "metadata": {},
   "outputs": [
    {
     "name": "stderr",
     "output_type": "stream",
     "text": [
      "                                                                                                                       \r"
     ]
    },
    {
     "data": {
      "text/html": [
       "<video src=\"media\\jupyter\\Basis_Blackboard@2021-08-19@19-48-52.mp4\" controls autoplay loop style=\"max-width: 25vw;\"  >\n",
       "      Your browser does not support the <code>video</code> element.\n",
       "    </video>"
      ],
      "text/plain": [
       "<IPython.core.display.Video object>"
      ]
     },
     "metadata": {},
     "output_type": "display_data"
    }
   ],
   "source": [
    "%%manim -qh --disable_caching -v WARNING Basis_Blackboard\n",
    "\n",
    "class Basis_Blackboard(Scene):\n",
    "    def construct(self):\n",
    "        \n",
    "        title = Title(f\"Linear Spline Approximation with Full Grids\")\n",
    "        no_intervals = MathTex(\"\\\\text{Number of intervals} = 2^l\")\n",
    "        grid_spacing = MathTex(\"\\\\text{Grid spacing: } h_{l} := 2^{-l}\")\n",
    "        omega = MathTex(\"\\\\text{Set of grid points: } \\\\Omega_{l} := \\left\\{ x_{l,i} \\mid i = 0, \\\\dots, 2^l \\\\right\\}\")\n",
    "        grid_points = MathTex(\"\\\\text{Grid points: } x_{l, i} := i h_{l}\")  \n",
    "        basis_functions = MathTex(\"\\\\text{Basis functions: } \\\\phi_{l,i}(x)\", \":= \\\\max (1-|2^{l}x - i|, 0)\")\n",
    "        interpolant = MathTex(\"\\\\text{Interpolant: } \\\\hat{f}(x) := \\sum_{i=0}^{2^l} c_{l,i} \\phi_{l,i}(x)\")\n",
    "        constants = MathTex(\"c_{l,i} = f(x_{l,i})\")\n",
    "  \n",
    "        text = VGroup(no_intervals, grid_spacing, omega, grid_points, basis_functions, interpolant, constants).scale(0.75).arrange(DOWN)\n",
    "        \n",
    "        self.play(Write(title))\n",
    "        \n",
    "        for t in text:\n",
    "            self.play(Write(t))\n",
    "            self.wait()\n",
    "#         for t in basis_functions:\n",
    "#             self.play(Write(t))\n",
    "#             self.wait()"
   ]
  },
  {
   "cell_type": "markdown",
   "id": "2388c0b9",
   "metadata": {},
   "source": [
    "# Animating basis functions "
   ]
  },
  {
   "cell_type": "code",
   "execution_count": 37,
   "id": "b7d84fcb",
   "metadata": {},
   "outputs": [
    {
     "name": "stderr",
     "output_type": "stream",
     "text": [
      "                                                                                                                       \r"
     ]
    },
    {
     "data": {
      "text/html": [
       "<video src=\"media\\jupyter\\Basis@2021-08-19@19-57-17.mp4\" controls autoplay loop style=\"max-width: 25vw;\"  >\n",
       "      Your browser does not support the <code>video</code> element.\n",
       "    </video>"
      ],
      "text/plain": [
       "<IPython.core.display.Video object>"
      ]
     },
     "metadata": {},
     "output_type": "display_data"
    }
   ],
   "source": [
    "%%manim -qh --disable_caching -v WARNING Basis\n",
    "\n",
    "class Basis(Scene):\n",
    "    def construct(self):\n",
    "        ax = Axes(\n",
    "            x_range=[0, 1, 1/4], \n",
    "            y_range=[0, 1.5, 1], \n",
    "            x_axis_config={\n",
    "                \"numbers_to_include\": np.linspace(0, 1, 5),\n",
    "                \"include_ticks\": True,\n",
    "                \"include_tip\": False\n",
    "            },\n",
    "            y_axis_config={\n",
    "                \"numbers_to_include\": [0, 1, 2],\n",
    "                \"include_ticks\": True\n",
    "            }\n",
    "        )\n",
    "\n",
    "        labels = ax.get_axis_labels()\n",
    "        self.add(ax, labels)\n",
    "        \n",
    "        colors = [BLUE_E, TEAL_E, GREEN_E, YELLOW_E, GOLD_E, TEAL_E, RED_E, MAROON_E, PURPLE_E]\n",
    "        lmax = 4\n",
    "        nodes_l = []\n",
    "        phi_l = []\n",
    "        \n",
    "        for l in range(lmax):\n",
    "            nodes_l.append(make_nodes(l))\n",
    "            phi_l.append(make_basis(nodes_l[l], l))\n",
    "            \n",
    "        phi = []\n",
    "        dots = []\n",
    "        \n",
    "        for l in range(lmax):\n",
    "            phi.append(VGroup(*[ax.get_graph(p, x_range = [0,1,0.003], color = colors[i]) for i, p in enumerate(phi_l[l])]))         \n",
    "            dots.append(VGroup(*[Dot(point=ax.c2p(n,0)) for n in nodes_l[l]]))\n",
    "            \n",
    "            omega_string = \"\\\\Omega_{\" + str(l) + \"} = \\\\left\\{\"\n",
    "            omega_string += \", \".join([str(element) for element in nodes_l[l]])\n",
    "            omega_string += \"\\\\right\\}\"\n",
    "            omega_label = MathTex(omega_string)\n",
    "            phi_label = MathTex(\"\\\\phi_{\" + str(l) + \",i} = \\\\max(1-|\" + str(2**l) + \"x - i|, 0)\")  \n",
    "            labels = VGroup(omega_label, phi_label).arrange(DOWN).shift(3*UP).scale(0.8)\n",
    "            \n",
    "            self.play(FadeIn(labels))\n",
    "            self.play(FadeIn(dots[l]))\n",
    "            self.play(Create(phi[l]), run_time = (l+1))\n",
    "            self.wait(1)\n",
    "            self.play(FadeOut(phi[l]), FadeOut(dots[l]), FadeOut(labels))"
   ]
  },
  {
   "cell_type": "markdown",
   "id": "de9c9db4",
   "metadata": {},
   "source": [
    "# Linear spline approximation"
   ]
  },
  {
   "cell_type": "markdown",
   "id": "67536516",
   "metadata": {},
   "source": [
    "## Animating linear spline appoximation"
   ]
  },
  {
   "cell_type": "code",
   "execution_count": 6,
   "id": "57cc7062",
   "metadata": {},
   "outputs": [
    {
     "name": "stderr",
     "output_type": "stream",
     "text": [
      "                                                                                                                       \r"
     ]
    },
    {
     "data": {
      "text/html": [
       "<video src=\"media\\jupyter\\LinearSplineApproximation@2021-08-19@15-25-46.mp4\" controls autoplay loop style=\"max-width: 25vw;\"  >\n",
       "      Your browser does not support the <code>video</code> element.\n",
       "    </video>"
      ],
      "text/plain": [
       "<IPython.core.display.Video object>"
      ]
     },
     "metadata": {},
     "output_type": "display_data"
    }
   ],
   "source": [
    "%%manim -qh -v WARNING LinearSplineApproximation\n",
    "\n",
    "class LinearSplineApproximation(Scene):\n",
    "    \n",
    "    # Create axis\n",
    "    def construct(self):\n",
    "        ax = Axes(\n",
    "            x_range=[0, 1, 1/8], \n",
    "            y_range=[0, 0.5], \n",
    "            axis_config = {\n",
    "                \"decimal_number_config\": {\"num_decimal_places\": 2}\n",
    "            },\n",
    "            x_axis_config={\n",
    "                \"numbers_to_include\": np.linspace(0, 1, 5),\n",
    "                \"include_ticks\": True,\n",
    "                \"include_tip\": False\n",
    "            }\n",
    "        )\n",
    "\n",
    "        labels = ax.get_axis_labels()\n",
    "\n",
    "        curve = ax.get_graph(curve_func, x_range=[0, 1], color=BLUE_C)\n",
    "        curve_label = MathTex(\"f(x) = x^2 \\sin(\\pi x)\", color = BLUE_C).shift(3*UP)\n",
    "\n",
    "        self.add(ax, labels)\n",
    "        self.play(Create(curve))\n",
    "        self.play(Write(curve_label))\n",
    "        \n",
    "        dots = []\n",
    "        coeff_phi = []  \n",
    "        approx = []\n",
    "        vert_lines = []\n",
    "        braces = []\n",
    "        braces_text = []\n",
    "        annotation = []\n",
    "        \n",
    "        for l in range(lmax):\n",
    "            dots.append(VGroup(*[Dot(point=ax.c2p(n,0)) for n in nodes_l[l]]))        \n",
    "            coeff_phi.append(VGroup(*[ax.get_graph(p, x_range = [0,1,0.003], color = ORANGE) for p in coeff_phi_l[l]]))\n",
    "            vert_lines.append(VGroup(*[ax.get_vertical_line(ax.i2gp(n, curve), color = YELLOW) for n in nodes_l[l]]))\n",
    "#             braces.append(Brace(vert_lines[l]).rotate(PI/2))\n",
    "#             braces_text.append(braces[l].get_text(\"c\"))\n",
    "            approx.append(ax.get_graph(approx_l[l], x_range = [0,1,0.003], color = GREEN))\n",
    "            annotation.append(MathTex(\"l = \" + str(l)).shift(3*UP))\n",
    "            \n",
    "            \n",
    "        # Animations\n",
    "        self.play(FadeOut(curve_label))\n",
    "        for l in range(2, lmax):\n",
    "            self.play(Write(annotation[l]))\n",
    "            self.play(FadeIn(dots[l]))\n",
    "            self.play(FadeIn(vert_lines[l]))\n",
    "            self.play(Create(coeff_phi[l]), run_time = l)\n",
    "#             self.play(Create(VGroup(braces[l], braces_text[l])))\n",
    "            self.play(Create(approx[l]), run_time = l)            \n",
    "            self.play(FadeOut(coeff_phi[l]), FadeOut(vert_lines[l]))\n",
    "            self.wait(1)\n",
    "            self.play(FadeOut(approx[l]), FadeOut(dots[l]), FadeOut(annotation[l]))"
   ]
  },
  {
   "cell_type": "markdown",
   "id": "c5363636",
   "metadata": {},
   "source": [
    "## Blackboard for linear spline appoximation"
   ]
  },
  {
   "cell_type": "code",
   "execution_count": 7,
   "id": "31da135c",
   "metadata": {},
   "outputs": [
    {
     "name": "stderr",
     "output_type": "stream",
     "text": [
      "                                                                                                                       \r"
     ]
    },
    {
     "data": {
      "text/html": [
       "<video src=\"media\\jupyter\\Linear_Spline_Blackboard@2021-08-19@15-27-17.mp4\" controls autoplay loop style=\"max-width: 25vw;\"  >\n",
       "      Your browser does not support the <code>video</code> element.\n",
       "    </video>"
      ],
      "text/plain": [
       "<IPython.core.display.Video object>"
      ]
     },
     "metadata": {},
     "output_type": "display_data"
    }
   ],
   "source": [
    "%%manim -qh --disable_caching -v WARNING Linear_Spline_Blackboard\n",
    "\n",
    "class Linear_Spline_Blackboard(Scene):\n",
    "    def construct(self):\n",
    "        interpolant = MathTex(\"\\\\hat{f}(x) := \\sum_{i=0}^{2^l} c_{n,i} \\phi_{n,i}(x)\")\n",
    "        constants = MathTex(\"c_{l,i} = f(x_{l,i})\")\n",
    "        basis_functions = MathTex(\"\\\\phi_{l,i}(x) := \\\\max (1-|2^{l}x - i|, 0)\")\n",
    "        self.play(Write(interpolant.shift(2*UP)))\n",
    "        self.play(Write(constants))\n",
    "        self.play(Write(basis_functions.shift(2*DOWN)))\n",
    "        self.wait(1)"
   ]
  },
  {
   "cell_type": "markdown",
   "id": "4bda2934",
   "metadata": {},
   "source": [
    "# Hierarchical Linear Spline Approximation"
   ]
  },
  {
   "cell_type": "code",
   "execution_count": 80,
   "id": "c4a723ea",
   "metadata": {},
   "outputs": [],
   "source": [
    "# Define approximating function\n",
    "def curve_func(x):\n",
    "    return np.sin(x*np.pi)*x**2\n",
    "\n",
    "lmax = 5\n",
    "# Initialise\n",
    "new_nodes_l = [make_hierarchical_nodes(0)]\n",
    "phi_l = [make_basis(new_nodes_l[0], 0)]\n",
    "coeff_l = [[curve_func(n) for n in new_nodes_l[0]]]\n",
    "coeff_phi_l = [make_scaled_basis(coeff_l[0], phi_l[0])]\n",
    "residual_func_l = [make_residual_function(curve_func, coeff_phi_l[0])]\n",
    "\n",
    "for l in range(1, lmax):\n",
    "    \n",
    "    # Add new nodes for each parent node\n",
    "    if (l > 0):\n",
    "        new_nodes_l.append(make_hierarchical_nodes(l))\n",
    "\n",
    "    # Add linear basis functions\n",
    "    phi_l.append(make_basis(new_nodes_l[l], l))\n",
    "\n",
    "    # Determine hierarchical surpluses\n",
    "    coeff_l.append(make_coefficients(residual_func_l[l-1], new_nodes_l[l]))\n",
    "    \n",
    "    # Create scaled linear basis functions\n",
    "    coeff_phi_l.append(make_scaled_basis(coeff_l[l], phi_l[l]))\n",
    "\n",
    "    # Define residual function\n",
    "    residual_func_l.append(make_residual_function(residual_func_l[l-1], coeff_phi_l[l]))\n"
   ]
  },
  {
   "cell_type": "markdown",
   "id": "97da3295",
   "metadata": {},
   "source": [
    "## Animating hierarchical basis functions"
   ]
  },
  {
   "cell_type": "code",
   "execution_count": 61,
   "id": "e3012d39",
   "metadata": {
    "scrolled": false
   },
   "outputs": [
    {
     "name": "stderr",
     "output_type": "stream",
     "text": [
      "                                                                                                                       \r"
     ]
    },
    {
     "data": {
      "text/html": [
       "<video src=\"media\\jupyter\\HBasis@2021-08-19@21-08-43.mp4\" controls autoplay loop style=\"max-width: 25vw;\"  >\n",
       "      Your browser does not support the <code>video</code> element.\n",
       "    </video>"
      ],
      "text/plain": [
       "<IPython.core.display.Video object>"
      ]
     },
     "metadata": {},
     "output_type": "display_data"
    }
   ],
   "source": [
    "%%manim -qh --disable_caching -v WARNING HBasis\n",
    "\n",
    "class HBasis(Scene):\n",
    "    def construct(self):\n",
    "        ax = Axes(\n",
    "            x_range=[0, 1, 1/4], \n",
    "            y_range=[0, 1.5], \n",
    "            x_axis_config={\n",
    "                \"numbers_to_include\": np.linspace(0, 1, 5),\n",
    "                \"include_ticks\": True,\n",
    "                \"include_tip\": False\n",
    "            },\n",
    "            y_axis_config={\n",
    "                \"numbers_to_include\": [0, 1, 2],\n",
    "                \"include_ticks\": True\n",
    "            }\n",
    "        )\n",
    "\n",
    "        labels = ax.get_axis_labels()\n",
    "        \n",
    "        self.add(ax, labels)\n",
    "        colors = [BLUE_E, TEAL_E, GREEN_E, YELLOW_E, GOLD_E, TEAL_E, RED_E, MAROON_E, PURPLE_E]\n",
    "        lmax = 4\n",
    "        hierarchical_nodes_l = []\n",
    "        phi_l = []\n",
    "        \n",
    "        for l in range(lmax):\n",
    "            hierarchical_nodes_l.append(make_hierarchical_nodes(l))\n",
    "            phi_l.append(make_basis(hierarchical_nodes_l[l], l))\n",
    "            # print(hierarchical_nodes_l[l])\n",
    "            \n",
    "        phi = []\n",
    "        dots = []      \n",
    "        for l in range(lmax):       \n",
    "            phi.append(VGroup(*[ax.get_graph(p, x_range = [0,1,0.003], color = colors[i]) for i, p in enumerate(phi_l[l])]))         \n",
    "            dots.append(VGroup(*[Dot(point=ax.c2p(n,0)) for n in hierarchical_nodes_l[l]]))\n",
    "            \n",
    "            string = \"\\\\tilde{\\\\Omega}_{\" + str(l) + \"} = \\\\left\\{\"\n",
    "            string += \", \".join([str(element) for element in hierarchical_nodes_l[l]])\n",
    "            string += \"\\\\right\\}\"\n",
    "            omega = MathTex(string)\n",
    "            \n",
    "            self.play(FadeIn(omega.shift(3*UP)))\n",
    "            \n",
    "            self.play(FadeIn(dots[l]))\n",
    "            self.play(Create(phi[l]), run_time = len(phi[l]))\n",
    "            self.wait(1)\n",
    "            self.play(FadeOut(phi[l]), FadeOut(dots[l]), FadeOut(omega))"
   ]
  },
  {
   "cell_type": "markdown",
   "id": "0eaf8a78",
   "metadata": {},
   "source": [
    "# Text for hierarchical basis functions"
   ]
  },
  {
   "cell_type": "markdown",
   "id": "3812f2bd",
   "metadata": {},
   "source": [
    "## Animation for hierarchical linear spline approximation"
   ]
  },
  {
   "cell_type": "code",
   "execution_count": 68,
   "id": "6f24358f",
   "metadata": {},
   "outputs": [
    {
     "name": "stderr",
     "output_type": "stream",
     "text": [
      "                                                                                                                       \r"
     ]
    },
    {
     "data": {
      "text/html": [
       "<video src=\"media\\jupyter\\Hierarchical_Basis_Blackboard@2021-08-19@21-27-25.mp4\" controls autoplay loop style=\"max-width: 25vw;\"  >\n",
       "      Your browser does not support the <code>video</code> element.\n",
       "    </video>"
      ],
      "text/plain": [
       "<IPython.core.display.Video object>"
      ]
     },
     "metadata": {},
     "output_type": "display_data"
    }
   ],
   "source": [
    "%%manim -qh --disable_caching -v WARNING Hierarchical_Basis_Blackboard\n",
    "\n",
    "class Hierarchical_Basis_Blackboard(Scene):\n",
    "    def construct(self):\n",
    "        title = Title(f\"Hierarchical Linear Spline Approximation with Full Grids\")\n",
    "        nested = MathTex(r\"\\Omega_{l-1} \\subset \\Omega_{l}\")\n",
    "        omega_tilde0 = MathTex(r\"\\tilde{\\Omega}_{0} := \\left\\{0, 1 \\right\\}\")\n",
    "        omega_tilde = MathTex(r\"\\tilde{\\Omega}_{l} := \\left\\{x_{l,i} \\mid i = 0, \\dots, 2^l, i \\text{ odd} \\right\\}\")\n",
    "        omega = MathTex(r\"\\Omega_{l} := \\bigcup_{n=1}^{l} \\tilde{\\Omega}_{n}\")\n",
    "\n",
    "        blackboard = VGroup(nested, omega_tilde0, omega_tilde, omega).arrange(DOWN)\n",
    "        \n",
    "        self.play(Write(title))\n",
    "        for t in blackboard:\n",
    "            self.play(Write(t))\n",
    "        self.wait(1)"
   ]
  },
  {
   "cell_type": "code",
   "execution_count": 18,
   "id": "c661d472",
   "metadata": {},
   "outputs": [
    {
     "name": "stderr",
     "output_type": "stream",
     "text": [
      "                                                                                                                       \r"
     ]
    },
    {
     "data": {
      "text/html": [
       "<video src=\"media\\jupyter\\Hierarchical_Linear_Spline_Approximation@2021-08-19@15-52-28.mp4\" controls autoplay loop style=\"max-width: 25vw;\"  >\n",
       "      Your browser does not support the <code>video</code> element.\n",
       "    </video>"
      ],
      "text/plain": [
       "<IPython.core.display.Video object>"
      ]
     },
     "metadata": {},
     "output_type": "display_data"
    }
   ],
   "source": [
    "%%manim -qh -v WARNING Hierarchical_Linear_Spline_Approximation\n",
    "\n",
    "class Hierarchical_Linear_Spline_Approximation(Scene): \n",
    "    def construct(self):\n",
    "        ax = Axes(\n",
    "            x_range=[0, 1, 1/8], \n",
    "            y_range=[-0.1, 0.5, 0.05], \n",
    "            axis_config = {\n",
    "                \"decimal_number_config\": {\"num_decimal_places\": 2}\n",
    "            },\n",
    "            x_axis_config={\n",
    "                \"numbers_to_include\": np.linspace(0, 1, 5),\n",
    "                \"include_ticks\": True,\n",
    "                \"include_tip\": False\n",
    "            }\n",
    "        )\n",
    "        \n",
    "        labels = ax.get_axis_labels()\n",
    "        curve = ax.get_graph(curve_func, x_range=[0, 1], color=BLUE_C)\n",
    "        curve_label = MathTex(\"y = x^2 \\sin(\\pi x)\", color = BLUE_C)\n",
    "        curve_label.shift(3*UP)   \n",
    "        self.add(ax, labels)\n",
    "        \n",
    "        self.play(Create(curve))\n",
    "        self.play(Write(curve_label))\n",
    "        self.play(FadeOut(curve_label))\n",
    "        \n",
    "        lmax = 5\n",
    "        dots = []\n",
    "        coeff_phi = []\n",
    "        residual = []\n",
    "        levels = []\n",
    "        for l in range(lmax):\n",
    "            dots.append(VGroup(*[Dot(point=ax.c2p(n,0)) for n in new_nodes_l[l]]))\n",
    "            coeff_phi.append(VGroup(*[ax.get_graph(p, x_range = [0,1,0.003], color = ORANGE) for p in coeff_phi_l[l]]))\n",
    "            residual.append(ax.get_graph(residual_func_l[l], x_range = [0,1,0.003], color = BLUE))   \n",
    "            string = \"l = \" + str(l)\n",
    "            levels.append(MathTex(string).shift(3*UP))\n",
    "            \n",
    "        all_new_nodes = [j for i in new_nodes_l for j in i]\n",
    "        all_new_dots = VGroup(*[Dot(point=ax.c2p(n,0)) for n in all_new_nodes])\n",
    "        all_basis = [j for i in coeff_phi_l for j in i]\n",
    "        all_coeff_phi = VGroup(*[ax.get_graph(p, x_range = [0,1,0.003], color = ORANGE) for p in all_basis])\n",
    "            \n",
    "        total_approx_func = lambda x: curve_func(x) - residual_func_l[lmax-1](x)\n",
    "        total_approx = ax.get_graph(total_approx_func, x_range = [0,1,0.003], color = GREEN)\n",
    "        \n",
    "        lmax_label = MathTex(\"l_{max} = 4\").shift(5.5*RIGHT, 3*UP).scale(0.7)\n",
    "        self.play(Write(lmax_label))\n",
    "        \n",
    "        for l in range(lmax):\n",
    "            self.play(Write(levels[l]))\n",
    "            self.play(FadeIn(dots[l]))\n",
    "            self.play(Create(coeff_phi[l]))\n",
    "            self.wait(1)\n",
    "            if l == 0:\n",
    "                self.play(FadeOut(coeff_phi[l]), FadeOut(dots[l]), FadeOut(levels[l]))\n",
    "            else:\n",
    "                self.play(Transform(VGroup(curve, coeff_phi[l]), residual[l]), FadeOut(dots[l]), FadeOut(levels[l]))\n",
    "\n",
    "        self.play(FadeOut(VGroup(curve, residual[lmax-1])))\n",
    "        self.play(FadeIn(VGroup(all_coeff_phi, all_new_dots)))\n",
    "        self.wait(1)\n",
    "        self.play(Transform(all_coeff_phi, total_approx))       \n",
    "        self.wait(1)"
   ]
  },
  {
   "cell_type": "markdown",
   "id": "64ae0083",
   "metadata": {},
   "source": [
    "# Adaptive Hierarchical Linear Spline Approximation"
   ]
  },
  {
   "cell_type": "code",
   "execution_count": 81,
   "id": "ba9424f3",
   "metadata": {},
   "outputs": [],
   "source": [
    "# Define approximating function\n",
    "def curve_func(x):\n",
    "    return np.sin(x*np.pi)*x**2\n",
    "\n",
    "# Define child nodes \n",
    "def make_new_nodes(parents, l):\n",
    "    new_nodes = []\n",
    "    for n in parents:\n",
    "        new_nodes.extend([n - 2**-l, n + 2**-l])\n",
    "    return new_nodes\n",
    "\n",
    "# Define parent nodes\n",
    "def make_parent_nodes(coeffs, nodes, tol):\n",
    "    parent_nodes = []\n",
    "    for alpha, node in zip(coeffs, nodes):\n",
    "        if abs(alpha) >= tol:\n",
    "            parent_nodes.append(node)\n",
    "    return parent_nodes\n",
    "\n",
    "tolerance = 0.02\n",
    "lmax = 5\n",
    "\n",
    "# Initialise\n",
    "new_nodes_l = [make_hierarchical_nodes(0), make_hierarchical_nodes(1)]\n",
    "parent_nodes_l = [new_nodes_l[0]]\n",
    "phi_l = [make_basis(new_nodes_l[0], 0)]\n",
    "coeff_l = [[curve_func(n) for n in new_nodes_l[0]]]\n",
    "coeff_phi_l = [make_scaled_basis(coeff_l[0], phi_l[0])]\n",
    "terminal_nodes_l = [[]]\n",
    "residual_func_l = [make_residual_function(curve_func, coeff_phi_l[0])]\n",
    "\n",
    "for l in range(1, lmax):\n",
    "    \n",
    "    # Add new nodes for each parent node\n",
    "    if (l > 1):\n",
    "        new_nodes_l.append(make_new_nodes(parent_nodes_l[l-1], l))\n",
    "\n",
    "    # Add linear basis functions\n",
    "    phi_l.append(make_basis(new_nodes_l[l], l))\n",
    "\n",
    "    # Determine hierarchical surpluses\n",
    "    coeff_l.append(make_coefficients(residual_func_l[l-1], new_nodes_l[l]))\n",
    "    \n",
    "    # Create scaled linear basis functions\n",
    "    coeff_phi_l.append(make_scaled_basis(coeff_l[l], phi_l[l]))\n",
    "\n",
    "    # Determine parent and terminal nodes\n",
    "    parent_nodes_l.append(make_parent_nodes(coeff_l[l], new_nodes_l[l], tolerance))           \n",
    "    terminal_nodes_l.append(np.setdiff1d(new_nodes_l[l], parent_nodes_l[l]))\n",
    "    \n",
    "    # Define residual function\n",
    "    residual_func_l.append(make_residual_function(residual_func_l[l-1], coeff_phi_l[l]))"
   ]
  },
  {
   "cell_type": "markdown",
   "id": "a3e8087b",
   "metadata": {},
   "source": [
    "## Adaptive Blackboard"
   ]
  },
  {
   "cell_type": "code",
   "execution_count": 77,
   "id": "6d16eae4",
   "metadata": {},
   "outputs": [
    {
     "name": "stderr",
     "output_type": "stream",
     "text": [
      "                                                                                                                       \r"
     ]
    },
    {
     "data": {
      "text/html": [
       "<video src=\"media\\jupyter\\Adaptive_Hierarchical_Basis_Blackboard@2021-08-19@23-41-09.mp4\" controls autoplay loop style=\"max-width: 25vw;\"  >\n",
       "      Your browser does not support the <code>video</code> element.\n",
       "    </video>"
      ],
      "text/plain": [
       "<IPython.core.display.Video object>"
      ]
     },
     "metadata": {},
     "output_type": "display_data"
    }
   ],
   "source": [
    "%%manim -qh --disable_caching -v WARNING Adaptive_Hierarchical_Basis_Blackboard\n",
    "\n",
    "class Adaptive_Hierarchical_Basis_Blackboard(Scene):\n",
    "    def construct(self):\n",
    "        title = Title(f\"Adaptive Hierarchical Linear Spline Approximation\")\n",
    "        epsilon = MathTex(r\"\\text{Tolerance level: } \\varepsilon\")\n",
    "        alphap = MathTex(r\"\\text{If } |\\alpha_{l,i}| \\geq \\varepsilon\")\n",
    "        parent_node = MathTex(r\"\\text{Node becomes parent node}\") \n",
    "        alphat = MathTex(r\"\\text{If } |\\alpha_{l,i}| < \\varepsilon\")    \n",
    "        terminal_node = MathTex(r\"\\text{Node becomes terminal node}\") \n",
    "\n",
    "        blackboard = VGroup(epsilon, alphap, parent_node, alphat, terminal_node).arrange(DOWN)\n",
    "        \n",
    "        self.play(Write(title))\n",
    "        for t in blackboard:\n",
    "            self.play(Write(t))\n",
    "        self.wait(1)"
   ]
  },
  {
   "cell_type": "markdown",
   "id": "22a51fa0",
   "metadata": {},
   "source": [
    "## Animation for adaptive hierarchical linear spline approximation"
   ]
  },
  {
   "cell_type": "code",
   "execution_count": 82,
   "id": "8f9498e0",
   "metadata": {},
   "outputs": [
    {
     "name": "stderr",
     "output_type": "stream",
     "text": [
      "                                                                                                                       \r"
     ]
    },
    {
     "data": {
      "text/html": [
       "<video src=\"media\\jupyter\\Adaptive_Hierarchical_Linear_Spline_Approximation@2021-08-20@00-18-04.mp4\" controls autoplay loop style=\"max-width: 25vw;\"  >\n",
       "      Your browser does not support the <code>video</code> element.\n",
       "    </video>"
      ],
      "text/plain": [
       "<IPython.core.display.Video object>"
      ]
     },
     "metadata": {},
     "output_type": "display_data"
    }
   ],
   "source": [
    "%%manim -qh -v WARNING Adaptive_Hierarchical_Linear_Spline_Approximation\n",
    "\n",
    "class Adaptive_Hierarchical_Linear_Spline_Approximation(Scene): \n",
    "    def construct(self):\n",
    "        ax = Axes(\n",
    "            x_range=[0, 1, 1/8], \n",
    "            y_range=[-0.1, 0.5, 0.05], \n",
    "            axis_config = {\n",
    "                \"decimal_number_config\": {\"num_decimal_places\": 2}\n",
    "            },\n",
    "            x_axis_config={\n",
    "                \"numbers_to_include\": np.linspace(0, 1, 5),\n",
    "                \"include_ticks\": True,\n",
    "                \"include_tip\": False\n",
    "            },\n",
    "            y_axis_config={\n",
    "                \"numbers_to_include\": [0.05],\n",
    "                \"include_ticks\": True,\n",
    "            }\n",
    "        )\n",
    "        \n",
    "        lmax = 5\n",
    "        labels = ax.get_axis_labels()\n",
    "        curve = ax.get_graph(curve_func, x_range=[0, 1], color=BLUE_C)\n",
    "        curve_label = MathTex(\"y = x^2 \\sin(\\pi x)\", color = BLUE_C)\n",
    "        curve_label.shift(3*UP)   \n",
    "        self.add(ax, labels)\n",
    "        self.play(Create(curve))\n",
    "        self.play(Write(curve_label))\n",
    "        self.play(FadeOut(curve_label))\n",
    "        \n",
    "        lmin_label = MathTex(\"l_{min} = 1\").shift(5.5*RIGHT, 3*UP).scale(0.5)\n",
    "        lmax_label = MathTex(\"l_{max} = 4\").shift(5.5*RIGHT, 2.5*UP).scale(0.5)\n",
    "        tolerance_label = MathTex(\"\\\\varepsilon = 0.02\").shift(5.5*RIGHT, 2*UP).scale(0.6)\n",
    "        g = VGroup(lmax_label, lmin_label, tolerance_label)\n",
    "        self.play(FadeIn(g))\n",
    "        \n",
    "        dots = []\n",
    "        parent_dots = []\n",
    "        terminal_dots = []\n",
    "        coeff_phi = []\n",
    "        residual = []\n",
    "        levels = []\n",
    "        \n",
    "        for l in range(lmax):\n",
    "            dots.append(VGroup(*[Dot(point=ax.c2p(n,0)) for n in new_nodes_l[l]]))\n",
    "            parent_dots.append(VGroup(*[Dot(point=ax.c2p(n,0), color = GREEN) for n in parent_nodes_l[l]]))\n",
    "            terminal_dots.append(VGroup(*[Dot(point=ax.c2p(n,0), color = RED) for n in terminal_nodes_l[l]]))\n",
    "            coeff_phi.append(VGroup(*[ax.get_graph(p, x_range = [0,1,0.003], color = ORANGE) for p in coeff_phi_l[l]]))\n",
    "            residual.append(ax.get_graph(residual_func_l[l], x_range = [0,1,0.003], color = BLUE))   \n",
    "            string = \"l = \" + str(l)\n",
    "            levels.append(MathTex(string).shift(3*UP))\n",
    "            \n",
    "        all_new_nodes = [j for i in new_nodes_l for j in i]\n",
    "        all_new_dots = VGroup(*[Dot(point=ax.c2p(n,0)) for n in all_new_nodes])\n",
    "        all_basis = [j for i in coeff_phi_l for j in i]\n",
    "        all_coeff_phi = VGroup(*[ax.get_graph(p, x_range = [0,1,0.003], color = ORANGE) for p in all_basis])\n",
    "            \n",
    "        total_approx_func = lambda x: curve_func(x) - residual_func_l[lmax-1](x)\n",
    "        total_approx = ax.get_graph(total_approx_func, x_range = [0,1,0.003], color = GREEN)\n",
    "        \n",
    "        grid_table = Table(\n",
    "        [[\"Full grid\", \"Adaptive grid\"],\n",
    "        [\"17\", \"13\"]]).scale(0.5).shift(2.5*UP, 2*LEFT)\n",
    "        \n",
    "        for l in range(lmax):\n",
    "            self.play(Write(levels[l]))\n",
    "            if (l==0):\n",
    "                self.play(FadeIn(dots[l]))\n",
    "            else:\n",
    "                self.play(FadeOut(terminal_dots[l-1]), Transform(parent_dots[l-1], dots[l]))\n",
    "            self.play(Create(coeff_phi[l]))\n",
    "            if (l==0):\n",
    "                self.play(FadeOut(dots[l]), FadeIn(parent_dots[l]), FadeIn(terminal_dots[l]))\n",
    "            else:\n",
    "                self.play(FadeOut(parent_dots[l-1]), FadeIn(parent_dots[l]), FadeIn(terminal_dots[l]))\n",
    "            if (l==0):\n",
    "                self.play(FadeOut(coeff_phi[l]), FadeOut(levels[l]))\n",
    "            else:\n",
    "                self.play(Transform(VGroup(curve, coeff_phi[l]), residual[l]), FadeOut(levels[l]))\n",
    "\n",
    "        self.play(FadeOut(VGroup(curve, residual[lmax-1], parent_dots[lmax-1], terminal_dots[lmax-1])))\n",
    "        self.play(FadeIn(VGroup(all_coeff_phi, all_new_dots)))\n",
    "        self.wait(1)\n",
    "        self.play(Transform(all_coeff_phi, total_approx))      \n",
    "        self.play(Write(grid_table))\n",
    "        self.wait(1)"
   ]
  },
  {
   "cell_type": "code",
   "execution_count": 142,
   "id": "078b3831",
   "metadata": {},
   "outputs": [],
   "source": [
    "def curve_func(x):\n",
    "    return np.sin(np.pi/(x+0.2))\n",
    "\n",
    "tolerance = 0.02\n",
    "lmax = 8\n",
    "# Initialise\n",
    "new_nodes_l = [make_hierarchical_nodes(0), make_hierarchical_nodes(1)]\n",
    "parent_nodes_l = [new_nodes_l[0]]\n",
    "phi_l = [make_basis(new_nodes_l[0], 0)]\n",
    "coeff_l = [[curve_func(n) for n in new_nodes_l[0]]]\n",
    "coeff_phi_l = [make_scaled_basis(coeff_l[0], phi_l[0])]\n",
    "terminal_nodes_l = [[]]\n",
    "residual_func_l = [make_residual_function(curve_func, coeff_phi_l[0])]\n",
    "\n",
    "for l in range(1, lmax):\n",
    "    \n",
    "    # Add new nodes for each parent node\n",
    "    if (l > 1):\n",
    "        new_nodes_l.append(make_new_nodes(parent_nodes_l[l-1], l))\n",
    "\n",
    "    # Add linear basis functions\n",
    "    phi_l.append(make_basis(new_nodes_l[l], l))\n",
    "\n",
    "    # Determine hierarchical surpluses\n",
    "    coeff_l.append(make_coefficients(residual_func_l[l-1], new_nodes_l[l]))\n",
    "    \n",
    "    # Create scaled linear basis functions\n",
    "    coeff_phi_l.append(make_scaled_basis(coeff_l[l], phi_l[l]))\n",
    "\n",
    "    # Determine parent and terminal nodes\n",
    "    parent_nodes_l.append(make_parent_nodes(coeff_l[l], new_nodes_l[l], tolerance))           \n",
    "    terminal_nodes_l.append(np.setdiff1d(new_nodes_l[l], parent_nodes_l[l]))\n",
    "    \n",
    "    # Define residual function\n",
    "    residual_func_l.append(make_residual_function(residual_func_l[l-1], coeff_phi_l[l]))\n",
    "    \n"
   ]
  },
  {
   "cell_type": "code",
   "execution_count": 143,
   "id": "d6daf644",
   "metadata": {},
   "outputs": [
    {
     "name": "stderr",
     "output_type": "stream",
     "text": [
      "                                                                                                                       \r"
     ]
    },
    {
     "data": {
      "text/html": [
       "<video src=\"media\\jupyter\\complicated_function@2021-08-07@01-32-19.mp4\" controls autoplay loop style=\"max-width: 25vw;\"  >\n",
       "      Your browser does not support the <code>video</code> element.\n",
       "    </video>"
      ],
      "text/plain": [
       "<IPython.core.display.Video object>"
      ]
     },
     "metadata": {},
     "output_type": "display_data"
    }
   ],
   "source": [
    "%%manim -qh -v WARNING complicated_function\n",
    "\n",
    "class complicated_function(Scene): \n",
    "    def construct(self):\n",
    "        ax = Axes(\n",
    "            x_range=[0, 1, 1/8], \n",
    "            y_range=[-1.5, 1.5, 0.1],\n",
    "            axis_config = {\n",
    "                \"decimal_number_config\": {\"num_decimal_places\": 2}\n",
    "            },\n",
    "            x_axis_config={\n",
    "                \"numbers_to_include\": np.linspace(0, 1, 5),\n",
    "                \"include_ticks\": True,\n",
    "                \"include_tip\": False\n",
    "            },\n",
    "            y_axis_config={\n",
    "                \"numbers_to_include\": np.arange(-1.5, 1.5, 0.5),\n",
    "                \"include_ticks\": True,\n",
    "            }\n",
    "        )\n",
    "        \n",
    "        labels = ax.get_axis_labels()\n",
    "        curve = ax.get_graph(curve_func, x_range=[0, 1], color=BLUE_C)\n",
    "        curve_label = MathTex(\"y = \\\\sin\\\\left(\\\\frac{\\\\pi}{x+0.2}\\\\right)\", color = BLUE_C)\n",
    "        curve_label.shift(3*UP)   \n",
    "        self.add(ax, labels)\n",
    "        \n",
    "        self.play(Create(curve))\n",
    "        self.play(Write(curve_label))\n",
    "\n",
    "        lmin_label = MathTex(\"l_{min} = 1\").shift(5.5*RIGHT, 3*UP).scale(0.5)\n",
    "        lmax_label = MathTex(\"l_{max} = 7\").shift(5.5*RIGHT, 2.5*UP).scale(0.5)\n",
    "        tolerance_label = MathTex(\"\\\\varepsilon = 0.02\").shift(5.5*RIGHT, 2*UP).scale(0.5)\n",
    "        g = VGroup(lmax_label, lmin_label, tolerance_label)\n",
    "        self.play(FadeIn(g))\n",
    "        \n",
    "        self.play(FadeOut(curve_label))\n",
    "        \n",
    "        dots = []\n",
    "        parent_dots = []\n",
    "        terminal_dots = []\n",
    "        coeff_phi = []\n",
    "        residual = []\n",
    "        levels = []\n",
    "        \n",
    "        for l in range(lmax):\n",
    "            dots.append(VGroup(*[Dot(point=ax.c2p(n,0)) for n in new_nodes_l[l]]))\n",
    "            parent_dots.append(VGroup(*[Dot(point=ax.c2p(n,0), color = GREEN) for n in parent_nodes_l[l]]))\n",
    "            terminal_dots.append(VGroup(*[Dot(point=ax.c2p(n,0), color = RED) for n in terminal_nodes_l[l]]))\n",
    "            coeff_phi.append(VGroup(*[ax.get_graph(p, x_range = [0,1,0.003], color = ORANGE) for p in coeff_phi_l[l]]))\n",
    "            residual.append(ax.get_graph(residual_func_l[l], x_range = [0,1,0.003], color = BLUE))   \n",
    "            string = \"l = \" + str(l)\n",
    "            levels.append(MathTex(string).shift(3*UP))\n",
    "            \n",
    "        all_new_nodes = [j for i in new_nodes_l for j in i]\n",
    "        all_new_dots = VGroup(*[Dot(point=ax.c2p(n,0), radius = 0.5*DEFAULT_DOT_RADIUS) for n in all_new_nodes])\n",
    "        all_basis = [j for i in coeff_phi_l for j in i]\n",
    "        all_coeff_phi = VGroup(*[ax.get_graph(p, x_range = [0,1,0.003], color = ORANGE) for p in all_basis])\n",
    "            \n",
    "        total_approx_func = lambda x: curve_func(x) - residual_func_l[lmax-1](x)\n",
    "        total_approx = ax.get_graph(total_approx_func, x_range = [0,1,0.003], color = GREEN)\n",
    "        \n",
    "        grid_table = Table(\n",
    "        [[\"Full grid\", \"Adaptive grid\"],\n",
    "        [\"129\", \"55\"]]).scale(0.5).shift(2.5*UP, 2*RIGHT)\n",
    "            \n",
    "        for l in range(lmax):\n",
    "            self.play(Write(levels[l]))\n",
    "            if (l==0):\n",
    "                self.play(FadeIn(dots[l]))\n",
    "            else:\n",
    "                self.play(FadeOut(terminal_dots[l-1]), Transform(parent_dots[l-1], dots[l]))\n",
    "            self.play(Create(coeff_phi[l]))\n",
    "            if (l==0):\n",
    "                self.play(FadeOut(dots[l]), FadeIn(parent_dots[l]), FadeIn(terminal_dots[l]))\n",
    "            else:\n",
    "                self.play(FadeOut(parent_dots[l-1]), FadeIn(parent_dots[l]), FadeIn(terminal_dots[l]))\n",
    "            self.play(Transform(VGroup(curve, coeff_phi[l]), residual[l]), FadeOut(levels[l]))\n",
    "\n",
    "        self.play(FadeOut(VGroup(curve, residual[lmax-1], parent_dots[lmax-1], terminal_dots[lmax-1])))\n",
    "        self.play(FadeIn(VGroup(all_coeff_phi, all_new_dots)))\n",
    "        self.play(Transform(all_coeff_phi, total_approx))      \n",
    "        self.play(Write(grid_table))\n",
    "        self.wait(1)"
   ]
  }
 ],
 "metadata": {
  "kernelspec": {
   "display_name": "manim",
   "language": "python",
   "name": "manim"
  },
  "language_info": {
   "codemirror_mode": {
    "name": "ipython",
    "version": 3
   },
   "file_extension": ".py",
   "mimetype": "text/x-python",
   "name": "python",
   "nbconvert_exporter": "python",
   "pygments_lexer": "ipython3",
   "version": "3.7.10"
  }
 },
 "nbformat": 4,
 "nbformat_minor": 5
}
